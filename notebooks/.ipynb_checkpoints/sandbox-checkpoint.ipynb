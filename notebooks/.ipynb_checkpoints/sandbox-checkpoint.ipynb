{
 "cells": [
  {
   "cell_type": "code",
   "execution_count": null,
   "metadata": {},
   "outputs": [],
   "source": [
    "from class_macronizer import Macronizer\n",
    "\n",
    "macronizer = Macronizer()\n",
    "\n",
    "print('Case 1: paroxytone, short ultima')\n",
    "word = 'παπάπα^' # case 1\n",
    "word_after_accentuation_rules = macronizer.apply_accentuation_rules(word)\n",
    "print(word_after_accentuation_rules + '\\n')\n",
    "assert word_after_accentuation_rules == 'παπά^πα^'\n",
    "\n",
    "print('Case 2: paroxytone, long penultima')\n",
    "word = 'ά_α' # case 2\n",
    "word_after_accentuation_rules = macronizer.apply_accentuation_rules(word)\n",
    "assert word_after_accentuation_rules == 'ά_α_'\n",
    "print(word_after_accentuation_rules + '\\n')\n",
    "\n",
    "print('Case 3a: properispomenon')\n",
    "word = 'σωτῆρα' # case 3a\n",
    "word_after_accentuation_rules = macronizer.apply_accentuation_rules(word)\n",
    "assert word_after_accentuation_rules == 'σωτῆρα^'\n",
    "print(word_after_accentuation_rules + '\\n')\n",
    "\n",
    "print('Case 3b: proparoxytone')\n",
    "word = 'πάπαπα' # case 3b\n",
    "word_after_accentuation_rules = macronizer.apply_accentuation_rules(word)\n",
    "assert word_after_accentuation_rules == 'πάπαπα^'\n",
    "print(word_after_accentuation_rules + '\\n')"
   ]
  },
  {
   "cell_type": "code",
   "execution_count": 1,
   "metadata": {},
   "outputs": [],
   "source": [
    "import cProfile\n",
    "from class_macronizer import Macronizer\n",
    "from tests.anabasis import anabasis_medium\n",
    "\n",
    "macronizer = Macronizer(unicode=False)\n",
    "\n",
    "cProfile.run('output = macronizer.macronize(text=anabasis_medium, genre=\"prose\", stats=True)')\n",
    "\n"
   ]
  },
  {
   "cell_type": "code",
   "execution_count": 1,
   "metadata": {},
   "outputs": [
    {
     "name": "stderr",
     "output_type": "stream",
     "text": [
      "Extracting words to macronize from the odyCy docs: 100%|██████████| 1/1 [00:00<00:00, 204.13it/s]\n",
      "Macronizing tokens ☕️: 100%|██████████| 2/2 [00:00<00:00, 431.22it/s]\n",
      "                                                            "
     ]
    },
    {
     "name": "stdout",
     "output_type": "stream",
     "text": [
      "###### STATS ######\n",
      "Dichrona in open syllables before:            6\n",
      "Unmacronized dichrona in open syllables left: 3\n",
      "\n",
      "\u001b[32m3\u001b[0m dichrona macronized.\n",
      "\n",
      "Macronization ratio: \u001b[32m50.00%\u001b[0m\n",
      "καὶ τἄλλ\u001b[32mα\u001b[0m^ πλοῖ\u001b[32mα\u001b[0m^ πᾶσ\u001b[32mά\u001b[0m^ θ' ἡ 'π\u001b[31mι\u001b[0mκουρ\u001b[31mί\u001b[0m\u001b[31mα\u001b[0m\n"
     ]
    },
    {
     "name": "stderr",
     "output_type": "stream",
     "text": [
      "\r"
     ]
    }
   ],
   "source": [
    "from grc_utils import colour_dichrona_in_open_syllables\n",
    "\n",
    "from class_macronizer import Macronizer\n",
    "\n",
    "macronizer = Macronizer(debug=True)\n",
    "\n",
    "input = \"καὶ τἄλλα πλοῖα πᾶσά θ' ἡ 'πικουρία\"\n",
    "output = macronizer.macronize(text=input, genre=\"prose\", stats=True)\n",
    "\n",
    "for line in output.split('.'):\n",
    "    print(colour_dichrona_in_open_syllables(line))\n"
   ]
  },
  {
   "cell_type": "code",
   "execution_count": 2,
   "metadata": {},
   "outputs": [
    {
     "name": "stderr",
     "output_type": "stream",
     "text": [
      "Extracting words to macronize from the odyCy docs: 100%|██████████| 2/2 [00:00<00:00, 121.44it/s]\n",
      "Macronizing tokens ☕️: 100%|██████████| 29/29 [00:00<00:00, 871.68it/s]\n",
      "                                                             "
     ]
    },
    {
     "name": "stdout",
     "output_type": "stream",
     "text": [
      "###### STATS ######\n",
      "Dichrona in open syllables before:            49\n",
      "Unmacronized dichrona in open syllables left: 3\n",
      "\n",
      "\u001b[32m46\u001b[0m dichrona macronized.\n",
      "\n",
      "Macronization ratio: \u001b[32m93.88%\u001b[0m\n",
      "Ξεν\u001b[32mί\u001b[0m^\u001b[32mα\u001b[0m_ς μὲν δὴ τοὺς ἐκ τῶν πόλεων λ\u001b[32mα\u001b[0m^βὼν π\u001b[32mα\u001b[0m^ρεγένετο εἰς Σάρδεις ὁπλ\u001b[32mί\u001b[0m_τ\u001b[32mα\u001b[0m_ς εἰς τετρ\u001b[32mα\u001b[0m^κ\u001b[32mι\u001b[0m^σχ\u001b[32mι\u001b[0m_λ\u001b[32mί\u001b[0m^ους, Πρόξενος δὲ π\u001b[32mα\u001b[0m^ρῆν ἔχων ὁπλ\u001b[32mί\u001b[0m_τ\u001b[32mα\u001b[0m_ς μὲν εἰς πεντ\u001b[32mα\u001b[0m^κοσ\u001b[32mί\u001b[0m^ους καὶ χ\u001b[32mι\u001b[0m_λ\u001b[32mί\u001b[0m^ους, γυμνῆτ\u001b[32mα\u001b[0m^ς δὲ πεντ\u001b[32mα\u001b[0m^κοσ\u001b[32mί\u001b[0m^ους, Σοφαίνετος δὲ ὁ Στυμφ\u001b[31mά\u001b[0mλ\u001b[31mι\u001b[0mος ὁπλ\u001b[32mί\u001b[0m_τ\u001b[32mα\u001b[0m_ς ἔχων χ\u001b[32mι\u001b[0m_λ\u001b[32mί\u001b[0m^ους, Σωκρ\u001b[32mά\u001b[0m^της δὲ ὁ Ἀχαιὸς ὁπλ\u001b[32mί\u001b[0m_τ\u001b[32mα\u001b[0m_ς ἔχων ὡς πεντ\u001b[32mα\u001b[0m^κοσ\u001b[32mί\u001b[0m^ους, Π\u001b[31mα\u001b[0mσ\u001b[32mί\u001b[0m^ων δὲ ὁ Μεγ\u001b[32mα\u001b[0m^ρεὺς τρ\u001b[32mι\u001b[0m^\u001b[32mα\u001b[0m_κοσ\u001b[32mί\u001b[0m^ους μὲν ὁπλ\u001b[32mί\u001b[0m_τ\u001b[32mα\u001b[0m_ς, τρ\u001b[32mι\u001b[0m^\u001b[32mα\u001b[0m_κοσ\u001b[32mί\u001b[0m^ους δὲ πελταστ\u001b[32mὰ\u001b[0m_ς ἔχων π\u001b[32mα\u001b[0m^ρεγένετο· ἦν δὲ καὶ οὗτος καὶ ὁ Σωκρ\u001b[32mά\u001b[0m^της τῶν ἀμφ\u001b[32mὶ\u001b[0m^ Μ\u001b[32mί\u001b[0m_λητον στρ\u001b[32mα\u001b[0m^τευομένων\n",
      " οὗτοι μὲν εἰς Σάρδεις αὐτῷ \u001b[32mἀ\u001b[0m^φ\u001b[32mί\u001b[0m_κοντο\n",
      "\n"
     ]
    },
    {
     "name": "stderr",
     "output_type": "stream",
     "text": [
      "\r"
     ]
    }
   ],
   "source": [
    "from grc_utils import colour_dichrona_in_open_syllables\n",
    "\n",
    "from tests.anabasis import anabasis_short\n",
    "from class_macronizer import Macronizer\n",
    "\n",
    "macronizer = Macronizer(debug=True)\n",
    "\n",
    "input = anabasis_short\n",
    "output = macronizer.macronize(text=input, genre=\"prose\", stats=True)\n",
    "\n",
    "for line in output.split('.'):\n",
    "    print(colour_dichrona_in_open_syllables(line))"
   ]
  },
  {
   "cell_type": "code",
   "execution_count": 3,
   "metadata": {},
   "outputs": [
    {
     "name": "stderr",
     "output_type": "stream",
     "text": [
      "Extracting words to macronize from the odyCy docs: 100%|██████████| 50/50 [00:00<00:00, 91.63it/s] \n",
      "Macronizing tokens ☕️: 100%|██████████| 430/430 [00:00<00:00, 886.37it/s]\n",
      "                                                                         \r"
     ]
    },
    {
     "name": "stdout",
     "output_type": "stream",
     "text": [
      "###### STATS ######\n",
      "Dichrona in open syllables before:            639\n",
      "Unmacronized dichrona in open syllables left: 85\n",
      "\n",
      "\u001b[32m554\u001b[0m dichrona macronized.\n",
      "\n",
      "Macronization ratio: \u001b[32m86.70%\u001b[0m\n",
      "Δ\u001b[32mα\u001b[0m_ρείου καὶ Π\u001b[32mα\u001b[0m^ρ\u001b[32mυ\u001b[0m^σ\u001b[32mά\u001b[0m_τ\u001b[32mι\u001b[0m^δος γίγνονται παῖδες δ\u001b[32mύ\u001b[0m^ο, πρεσβ\u001b[32mύ\u001b[0m^τερος μὲν Ἀρταξέρξης, νεώτερος δὲ Κῦρος· ἐπεὶ δὲ ἠσθένει Δ\u001b[32mα\u001b[0m_ρεῖος καὶ \u001b[32mὑ\u001b[0m^πώπτευε τελευτὴν τοῦ β\u001b[32mί\u001b[0m^ου, ἐβούλετο τὼ παῖδε ἀμφοτέρω π\u001b[32mα\u001b[0m^ρεῖναι\n",
      " ὁ μὲν οὖν πρεσβ\u001b[32mύ\u001b[0m^τερος π\u001b[32mα\u001b[0m^ρὼν ἐτύγχ\u001b[32mα\u001b[0m^νε· Κῦρον δὲ μετ\u001b[32mα\u001b[0m^πέμπεται \u001b[32mἀ\u001b[0m^πὸ τῆς ἀρχῆς ἧς αὐτὸν σατρ\u001b[31mά\u001b[0mπην ἐποίησε, καὶ στρ\u001b[32mα\u001b[0m^τηγὸν δὲ αὐτὸν \u001b[31mἀ\u001b[0mπέδειξε πάντων ὅσοι ἐς Καστωλοῦ πεδ\u001b[32mί\u001b[0m^ον ἁθροίζονται\n",
      " \u001b[32mἀ\u001b[0m^ν\u001b[32mα\u001b[0m^βαίνει οὖν ὁ Κῦρος λ\u001b[32mα\u001b[0m^βὼν Τισσ\u001b[32mα\u001b[0m^φέρνην ὡς φ\u001b[32mί\u001b[0m^λον, καὶ τῶν Ἑλλήνων ἔχων ὁπλ\u001b[32mί\u001b[0m_τ\u001b[32mα\u001b[0m_ς \u001b[32mἀ\u001b[0m^νέβη τρ\u001b[32mι\u001b[0m^\u001b[32mα\u001b[0m_κοσ\u001b[32mί\u001b[0m^ους, \u001b[32mἄ\u001b[0m^ρχοντ\u001b[32mα\u001b[0m^ δὲ αὐτῶν Ξεν\u001b[32mί\u001b[0m^\u001b[32mα\u001b[0m_ν Παρρ\u001b[31mά\u001b[0mσ\u001b[31mι\u001b[0mον\n",
      " ἐπεὶ δὲ ἐτελεύτησε Δ\u001b[32mα\u001b[0m_ρεῖος καὶ κ\u001b[32mα\u001b[0m^τέστη εἰς τὴν β\u001b[32mα\u001b[0m^σ\u001b[32mι\u001b[0m^λεί\u001b[32mα\u001b[0m_ν Ἀρταξέρξης, Τισσ\u001b[32mα\u001b[0m^φέρνης δ\u001b[31mι\u001b[0m\u001b[31mα\u001b[0mβ\u001b[32mά\u001b[0m^λλει τὸν Κῦρον πρὸς τὸν \u001b[32mἀ\u001b[0m^δελφὸν ὡς ἐπ\u001b[32mι\u001b[0m^βουλεύοι αὐτῷ\n",
      " ὁ δὲ πείθεται καὶ σ\u001b[32mυ\u001b[0m^λλ\u001b[32mα\u001b[0m^μβ\u001b[32mά\u001b[0m^νει Κῦρον ὡς \u001b[31mἀ\u001b[0mποκτενῶν· ἡ δὲ μήτηρ ἐξαιτησ\u001b[31mα\u001b[0mμένη αὐτὸν \u001b[32mἀ\u001b[0m^ποπέμπει π\u001b[32mά\u001b[0m^λ\u001b[32mι\u001b[0m^ν ἐπ\u001b[32mὶ\u001b[0m^ τὴν ἀρχήν\n",
      " ὁ δ' ὡς \u001b[32mἀ\u001b[0m^πῆλθε κ\u001b[32mι\u001b[0m^νδ\u001b[32mυ\u001b[0m_νεύσ\u001b[32mα\u001b[0m_ς καὶ \u001b[31mἀ\u001b[0mτ\u001b[32mι\u001b[0m_μ\u001b[32mα\u001b[0m^σθείς, βουλεύεται ὅπως μήποτε ἔτ\u001b[32mι\u001b[0m^ ἔσται ἐπ\u001b[32mὶ\u001b[0m^ τῷ \u001b[32mἀ\u001b[0m^δελφῷ, ἀλλ\u001b[32mά\u001b[0m^, ἢν δ\u001b[32mύ\u001b[0m_νηται, β\u001b[32mα\u001b[0m^σ\u001b[32mι\u001b[0m^λεύσει ἀντ' ἐκείνου\n",
      " Π\u001b[32mα\u001b[0m^ρ\u001b[32mύ\u001b[0m^σ\u001b[32mα\u001b[0m_τ\u001b[32mι\u001b[0m^ς μὲν δὴ ἡ μήτηρ \u001b[32mὑ\u001b[0m^πῆρχε τῷ Κ\u001b[32mύ\u001b[0m_ρῳ, φ\u001b[32mι\u001b[0m^λοῦσ\u001b[32mα\u001b[0m^ αὐτὸν μᾶλλον ἢ τὸν β\u001b[32mα\u001b[0m^σ\u001b[32mι\u001b[0m^λεύοντ\u001b[32mα\u001b[0m^ Ἀρταξέρξην\n",
      " ὅστ\u001b[32mι\u001b[0m^ς δ' \u001b[31mἀ\u001b[0mφ\u001b[32mι\u001b[0m_κνεῖτο τῶν π\u001b[32mα\u001b[0m^ρ\u001b[32mὰ\u001b[0m^  β\u001b[32mα\u001b[0m^σ\u001b[32mι\u001b[0m^λέως πρὸς αὐτὸν π\u001b[32mά\u001b[0m^ντ\u001b[32mα\u001b[0m^ς οὕτω δ\u001b[31mι\u001b[0m\u001b[31mα\u001b[0mτ\u001b[31mι\u001b[0mθεὶς \u001b[32mἀ\u001b[0m^πεπέμπετο ὥστε αὐτῷ μᾶλλον φ\u001b[32mί\u001b[0m^λους εἶναι ἢ β\u001b[32mα\u001b[0m^σ\u001b[32mι\u001b[0m^λεῖ\n",
      " καὶ τῶν π\u001b[32mα\u001b[0m^ρ' ἑαυτῷ δὲ β\u001b[32mα\u001b[0m^ρβ\u001b[32mά\u001b[0m^ρων ἐπεμελεῖτο ὡς πολεμεῖν τε \u001b[32mἱ\u001b[0m^κ\u001b[32mα\u001b[0m^νοὶ εἴησ\u001b[32mα\u001b[0m^ν καὶ εὐνο\u001b[31mϊ\u001b[0mκῶς ἔχοιεν αὐτῷ\n",
      " τὴν δὲ Ἑλλην\u001b[32mι\u001b[0m^κὴν δ\u001b[32mύ\u001b[0m^ν\u001b[32mα\u001b[0m^μ\u001b[32mι\u001b[0m^ν ἥθροιζεν ὡς μ\u001b[32mά\u001b[0m^λ\u001b[32mι\u001b[0m^στ\u001b[32mα\u001b[0m^ ἐδ\u001b[32mύ\u001b[0m^ν\u001b[32mα\u001b[0m^το ἐπικρυπτόμενος, ὅπως ὅτ\u001b[32mι\u001b[0m^ \u001b[31mἀ\u001b[0mπ\u001b[31mα\u001b[0mρασκευότ\u001b[31mα\u001b[0mτον λ\u001b[32mά\u001b[0m^βοι β\u001b[32mα\u001b[0m^σ\u001b[32mι\u001b[0m^λέ\u001b[32mα\u001b[0m_\n"
     ]
    }
   ],
   "source": [
    "from grc_utils import colour_dichrona_in_open_syllables\n",
    "\n",
    "from tests.anabasis import anabasis_medium\n",
    "from class_macronizer import Macronizer\n",
    "\n",
    "macronizer = Macronizer(debug=True)\n",
    "\n",
    "input = anabasis_medium\n",
    "\n",
    "output = macronizer.macronize(text=input, genre=\"prose\", stats=True)\n",
    "\n",
    "for line in output.split('.')[:10]:\n",
    "    print(colour_dichrona_in_open_syllables(line))\n",
    "\n",
    "# 531"
   ]
  },
  {
   "cell_type": "code",
   "execution_count": null,
   "metadata": {},
   "outputs": [
    {
     "name": "stderr",
     "output_type": "stream",
     "text": [
      "Extracting words to macronize from the odyCy docs: 100%|██████████| 2352/2352 [00:14<00:00, 158.19it/s]\n",
      "Macronizing tokens ☕️: 100%|██████████| 21956/21956 [00:28<00:00, 764.64it/s]\n",
      "                                                                               \r"
     ]
    },
    {
     "name": "stdout",
     "output_type": "stream",
     "text": [
      "###### STATS ######\n",
      "Dichrona in open syllables before:            29712\n",
      "Unmacronized dichrona in open syllables left: 6504\n",
      "\n",
      "\u001b[32m23208\u001b[0m dichrona macronized.\n",
      "\n",
      "Macronization ratio: \u001b[32m78.11%\u001b[0m\n",
      "Δ\u001b[32mα\u001b[0m_ρείου καὶ Π\u001b[32mα\u001b[0m^ρ\u001b[32mυ\u001b[0m^σ\u001b[32mά\u001b[0m_τ\u001b[32mι\u001b[0m^δος γίγνονται παῖδες δ\u001b[32mύ\u001b[0m^ο, πρεσβ\u001b[32mύ\u001b[0m^τερος μὲν Ἀρταξέρξης, νεώτερος δὲ Κῦρος· ἐπεὶ δὲ ἠσθένει Δ\u001b[32mα\u001b[0m_ρεῖος καὶ \u001b[32mὑ\u001b[0m^πώπτευε τελευτὴν τοῦ β\u001b[32mί\u001b[0m^ου, ἐβούλετο τὼ παῖδε ἀμφοτέρω π\u001b[32mα\u001b[0m^ρεῖναι\n",
      " ὁ μὲν οὖν πρεσβ\u001b[32mύ\u001b[0m^τερος π\u001b[32mα\u001b[0m^ρὼν ἐτύγχ\u001b[32mα\u001b[0m^νε· Κῦρον δὲ μετ\u001b[32mα\u001b[0m^πέμπεται \u001b[32mἀ\u001b[0m^πὸ τῆς ἀρχῆς ἧς αὐτὸν σατρ\u001b[31mά\u001b[0mπην ἐποίησε, καὶ στρ\u001b[32mα\u001b[0m^τηγὸν δὲ αὐτὸν \u001b[31mἀ\u001b[0mπέδειξε πάντων ὅσοι ἐς Καστωλοῦ πεδ\u001b[32mί\u001b[0m^ον ἁθροίζονται\n",
      " \u001b[32mἀ\u001b[0m^ν\u001b[32mα\u001b[0m^βαίνει οὖν ὁ Κῦρος λ\u001b[32mα\u001b[0m^βὼν Τισσ\u001b[32mα\u001b[0m^φέρνην ὡς φ\u001b[32mί\u001b[0m^λον, καὶ τῶν Ἑλλήνων ἔχων ὁπλ\u001b[32mί\u001b[0m_τ\u001b[32mα\u001b[0m_ς \u001b[32mἀ\u001b[0m^νέβη τρ\u001b[32mι\u001b[0m^\u001b[32mα\u001b[0m_κοσ\u001b[32mί\u001b[0m^ους, \u001b[32mἄ\u001b[0m^ρχοντ\u001b[32mα\u001b[0m^ δὲ αὐτῶν Ξεν\u001b[32mί\u001b[0m^\u001b[32mα\u001b[0m_ν Παρρ\u001b[31mά\u001b[0mσ\u001b[31mι\u001b[0mον\n",
      " ἐπεὶ δὲ ἐτελεύτησε Δ\u001b[32mα\u001b[0m_ρεῖος καὶ κ\u001b[32mα\u001b[0m^τέστη εἰς τὴν β\u001b[32mα\u001b[0m^σ\u001b[32mι\u001b[0m^λεί\u001b[32mα\u001b[0m_ν Ἀρταξέρξης, Τισσ\u001b[32mα\u001b[0m^φέρνης δ\u001b[31mι\u001b[0m\u001b[31mα\u001b[0mβ\u001b[32mά\u001b[0m^λλει τὸν Κῦρον πρὸς τὸν \u001b[32mἀ\u001b[0m^δελφὸν ὡς ἐπ\u001b[32mι\u001b[0m^βουλεύοι αὐτῷ\n",
      " ὁ δὲ πείθεται καὶ σ\u001b[32mυ\u001b[0m^λλ\u001b[32mα\u001b[0m^μβ\u001b[32mά\u001b[0m^νει Κῦρον ὡς \u001b[31mἀ\u001b[0mποκτενῶν· ἡ δὲ μήτηρ ἐξαιτησ\u001b[31mα\u001b[0mμένη αὐτὸν \u001b[32mἀ\u001b[0m^ποπέμπει π\u001b[32mά\u001b[0m^λ\u001b[32mι\u001b[0m^ν ἐπ\u001b[32mὶ\u001b[0m^ τὴν ἀρχήν\n",
      " ὁ δ' ὡς \u001b[32mἀ\u001b[0m^πῆλθε κ\u001b[32mι\u001b[0m^νδ\u001b[32mυ\u001b[0m_νεύσ\u001b[32mα\u001b[0m_ς καὶ \u001b[31mἀ\u001b[0mτ\u001b[32mι\u001b[0m_μ\u001b[32mα\u001b[0m^σθείς, βουλεύεται ὅπως μήποτε ἔτ\u001b[32mι\u001b[0m^ ἔσται ἐπ\u001b[32mὶ\u001b[0m^ τῷ \u001b[32mἀ\u001b[0m^δελφῷ, ἀλλ\u001b[32mά\u001b[0m^, ἢν δ\u001b[32mύ\u001b[0m_νηται, β\u001b[32mα\u001b[0m^σ\u001b[32mι\u001b[0m^λεύσει ἀντ' ἐκείνου\n",
      " Π\u001b[32mα\u001b[0m^ρ\u001b[32mύ\u001b[0m^σ\u001b[32mα\u001b[0m_τ\u001b[32mι\u001b[0m^ς μὲν δὴ ἡ μήτηρ \u001b[32mὑ\u001b[0m^πῆρχε τῷ Κ\u001b[32mύ\u001b[0m_ρῳ, φ\u001b[32mι\u001b[0m^λοῦσ\u001b[32mα\u001b[0m^ αὐτὸν μᾶλλον ἢ τὸν β\u001b[32mα\u001b[0m^σ\u001b[32mι\u001b[0m^λεύοντ\u001b[32mα\u001b[0m^ Ἀρταξέρξην\n",
      " ὅστ\u001b[32mι\u001b[0m^ς δ' \u001b[31mἀ\u001b[0mφ\u001b[32mι\u001b[0m_κνεῖτο τῶν π\u001b[32mα\u001b[0m^ρ\u001b[32mὰ\u001b[0m^  β\u001b[32mα\u001b[0m^σ\u001b[32mι\u001b[0m^λέως πρὸς αὐτὸν π\u001b[32mά\u001b[0m^ντ\u001b[32mα\u001b[0m^ς οὕτω δ\u001b[31mι\u001b[0m\u001b[31mα\u001b[0mτ\u001b[31mι\u001b[0mθεὶς \u001b[32mἀ\u001b[0m^πεπέμπετο ὥστε αὐτῷ μᾶλλον φ\u001b[32mί\u001b[0m^λους εἶναι ἢ β\u001b[32mα\u001b[0m^σ\u001b[32mι\u001b[0m^λεῖ\n",
      " καὶ τῶν π\u001b[32mα\u001b[0m^ρ' ἑαυτῷ δὲ β\u001b[32mα\u001b[0m^ρβ\u001b[32mά\u001b[0m^ρων ἐπεμελεῖτο ὡς πολεμεῖν τε \u001b[32mἱ\u001b[0m^κ\u001b[32mα\u001b[0m^νοὶ εἴησ\u001b[32mα\u001b[0m^ν καὶ εὐνο\u001b[31mϊ\u001b[0mκῶς ἔχοιεν αὐτῷ\n",
      " τὴν δὲ Ἑλλην\u001b[32mι\u001b[0m^κὴν δ\u001b[32mύ\u001b[0m^ν\u001b[32mα\u001b[0m^μ\u001b[32mι\u001b[0m^ν ἥθροιζεν ὡς μ\u001b[32mά\u001b[0m^λ\u001b[32mι\u001b[0m^στ\u001b[32mα\u001b[0m^ ἐδ\u001b[32mύ\u001b[0m^ν\u001b[32mα\u001b[0m^το ἐπικρυπτόμενος, ὅπως ὅτ\u001b[32mι\u001b[0m^ \u001b[31mἀ\u001b[0mπ\u001b[31mα\u001b[0mρασκευότ\u001b[31mα\u001b[0mτον λ\u001b[32mά\u001b[0m^βοι β\u001b[32mα\u001b[0m^σ\u001b[32mι\u001b[0m^λέ\u001b[32mα\u001b[0m_\n"
     ]
    }
   ],
   "source": [
    "from grc_utils import colour_dichrona_in_open_syllables\n",
    "\n",
    "from tests.anabasis import anabasis\n",
    "from class_macronizer import Macronizer\n",
    "\n",
    "macronizer = Macronizer(debug=True)\n",
    "\n",
    "input = anabasis\n",
    "output = macronizer.macronize(text=input, genre=\"prose\", stats=True)\n",
    "\n",
    "for line in output.split('.')[:10]:\n",
    "    print(colour_dichrona_in_open_syllables(line))\n"
   ]
  },
  {
   "cell_type": "code",
   "execution_count": null,
   "metadata": {},
   "outputs": [
    {
     "name": "stderr",
     "output_type": "stream",
     "text": [
      "Extracting words to macronize from the odyCy docs: 100%|██████████| 340/340 [00:01<00:00, 321.88it/s]\n",
      "Macronizing tokens ☕️: 100%|██████████| 2088/2088 [00:03<00:00, 604.26it/s]\n",
      "                                                                           \r"
     ]
    },
    {
     "name": "stdout",
     "output_type": "stream",
     "text": [
      "###### STATS ######\n",
      "Dichrona in open syllables before:            2737\n",
      "Unmacronized dichrona in open syllables left: 940\n",
      "\n",
      "\u001b[32m1797\u001b[0m dichrona macronized.\n",
      "\n",
      "Macronization ratio: \u001b[32m65.66%\u001b[0m\n",
      "Ζεὺς μὲν \u001b[32mἀ\u001b[0m^φίκτωρ ἐπ\u001b[32mί\u001b[0m^δοι προφρόνως\n",
      "στόλον ἡμέτερον νάιον ἀρθέντ'\n",
      "\u001b[32mἀ\u001b[0m^πὸ προστομ\u001b[31mί\u001b[0mων λεπτοψ\u001b[31mα\u001b[0mμ\u001b[32mά\u001b[0m^θων\n",
      "Νείλου\n",
      " Δ\u001b[32mί\u001b[0m_\u001b[32mα\u001b[0m_ν δὲ λ\u001b[32mι\u001b[0m^ποῦσαι\n",
      "χθόν\u001b[31mα\u001b[0m σύγχορτον Σ\u001b[31mυ\u001b[0mρ\u001b[31mί\u001b[0mᾳ φεύγομεν,\n",
      "οὔτ\u001b[31mι\u001b[0mν' ἐφ' αἵμ\u001b[32mα\u001b[0m^τ\u001b[32mι\u001b[0m^ δημηλ\u001b[31mα\u001b[0mσ\u001b[31mί\u001b[0m\u001b[31mα\u001b[0mν\n",
      "ψήφῳ πόλεως γνωσθεῖσαι,\n",
      "ἀλλ' αὐτογενεῖ φυξ\u001b[31mα\u001b[0mνορ\u001b[31mί\u001b[0mᾳ,\n",
      "γ\u001b[32mά\u001b[0m^μον \u001b[31mΑ\u001b[0m\u001b[31mἰ\u001b[0mγ\u001b[32mύ\u001b[0m^πτου παίδων \u001b[31mἀ\u001b[0mσεβῆ τ'\n",
      "ὀνοταζόμεναι δ\u001b[32mι\u001b[0m^\u001b[31mά\u001b[0mνοι\u001b[32mα\u001b[0m^ν\n",
      "\n",
      "Δ\u001b[31mα\u001b[0mν\u001b[31mα\u001b[0mὸς δὲ π\u001b[32mα\u001b[0m^τὴρ καὶ βούλαρχος\n",
      "καὶ στ\u001b[32mα\u001b[0m^σ\u001b[31mί\u001b[0mαρχος τ\u001b[32mά\u001b[0m^δε πεσσονομῶν\n",
      "κ\u001b[31mύ\u001b[0mδιστ' \u001b[32mἀ\u001b[0m^χέων ἐπέκρ\u001b[31mι\u001b[0mνεν\n",
      "φεύγειν \u001b[31mἀ\u001b[0mνέδην δ\u001b[32mι\u001b[0m^\u001b[32mὰ\u001b[0m^ κῦμ' \u001b[32mἅ\u001b[0m_λ\u001b[32mι\u001b[0m^ον,\n",
      "κέλσαι δ' Ἄργους γαῖ\u001b[32mα\u001b[0m^ν, ὅθεν δὴ\n",
      "γένος ἡμέτερον τῆς οἰστροδόνου\n",
      "βοὸς ἐξ ἐπ\u001b[31mα\u001b[0mφῆς κἀξ ἐπιπνοί\u001b[31mα\u001b[0mς\n",
      "Δ\u001b[31mι\u001b[0mὸς εὐχόμενον τετέλεσται\n",
      "\n",
      "τ\u001b[31mί\u001b[0mν' ἂ\u001b[32mν\u001b[0m^ οὖν χώρ\u001b[32mα\u001b[0m_ν εὔφρον\u001b[32mα\u001b[0m^ μᾶλλον\n",
      "τῆσδ' \u001b[32mἀ\u001b[0m^φ\u001b[32mι\u001b[0m^κοίμεθ\u001b[32mα\u001b[0m^\n",
      "σ\u001b[32mὺ\u001b[0m^ν τοῖσδ' \u001b[32mἱ\u001b[0m^κετῶν ἐγχειρ\u001b[32mι\u001b[0m^δ\u001b[32mί\u001b[0m^οις,\n",
      "ἐρ\u001b[31mι\u001b[0mοστέπτοισ\u001b[32mι\u001b[0m^ κλ\u001b[31mά\u001b[0mδοισ\u001b[32mι\u001b[0m^ν;\n",
      "ὦ πόλ\u001b[32mι\u001b[0m^ς, ὦ γῆ, καὶ λευκὸν \u001b[32mὕ\u001b[0m^δωρ,\n",
      "\u001b[32mὕ\u001b[0m^π\u001b[32mα\u001b[0m^τοί τε θεοί, καὶ β\u001b[31mα\u001b[0mρ\u001b[31mύ\u001b[0mτ\u001b[31mι\u001b[0mμοι\n",
      "χθόν\u001b[32mι\u001b[0m^οι θήκ\u001b[32mα\u001b[0m_ς κ\u001b[32mα\u001b[0m^τέχοντες,\n",
      "καὶ Ζεὺς σωτὴρ τρ\u001b[32mί\u001b[0m^τος, οἰκοφ\u001b[32mύ\u001b[0m^λ\u001b[32mα\u001b[0m^ξ\n",
      "ὁσ\u001b[32mί\u001b[0m^ων ἀνδρῶν, δέξασθ' \u001b[32mἱ\u001b[0m_κέτην\n",
      "τὸν θηλ\u001b[31mυ\u001b[0mγενῆ στόλον αἰδοίῳ\n",
      "πνεύμ\u001b[32mα\u001b[0m^τ\u001b[32mι\u001b[0m^ χώρ\u001b[32mα\u001b[0m_ς· ἀρσενοπληθῆ δ'\n",
      "ἑσμὸν ὑβριστὴν \u001b[31mΑ\u001b[0m\u001b[31mἰ\u001b[0mγυπτογενῆ,\n",
      "πρ\u001b[32mὶ\u001b[0m^ν πόδ\u001b[31mα\u001b[0m χέρσῳ τῇδ' ἐν \u001b[31mἀ\u001b[0mσώδει\n",
      "θεῖναι, ξ\u001b[32mὺ\u001b[0m^ν ὄχῳ τ\u001b[31mα\u001b[0mχ\u001b[31mυ\u001b[0mήρει\n",
      "πέμψ\u001b[32mα\u001b[0m^τε πόντονδ'· ἔνθ\u001b[32mα\u001b[0m^ δὲ λαίλ\u001b[31mα\u001b[0mπ\u001b[32mι\u001b[0m^\n",
      "χειμωνοτ\u001b[32mύ\u001b[0m^πῳ, βροντῇ στεροπῇ τ'\n",
      "ὀμβροφόροισ\u001b[32mί\u001b[0m^ν τ' \u001b[32mἀ\u001b[0m^νέμοις ἀγρ\u001b[32mί\u001b[0m^\u001b[32mα\u001b[0m_ς\n",
      "\u001b[32mἁ\u001b[0m^λὸς ἀντήσαντες ὄλοιντο,\n",
      "πρ\u001b[32mί\u001b[0m^ν ποτε λέκτρων, ὧν θέμ\u001b[32mι\u001b[0m_ς εἴργει,\n",
      "σφετεριξ\u001b[31mά\u001b[0mμενοι πατρ\u001b[31mα\u001b[0mδέλφει\u001b[32mα\u001b[0m^ν\n",
      "τήνδ' \u001b[32mἀ\u001b[0m_κόντων ἐπ\u001b[32mι\u001b[0m^βῆναι\n",
      "\n",
      "νῦν δ' ἐπ\u001b[31mι\u001b[0mκεκλομέν\u001b[31mα\u001b[0m\n",
      "Δῖον πόρτ\u001b[31mι\u001b[0mν \u001b[31mὑ\u001b[0mπερπόντ\u001b[31mι\u001b[0mον τ\u001b[31mι\u001b[0mμ\u001b[31mά\u001b[0mορ' ἶν\u001b[32mί\u001b[0m^ν τ'\n",
      "ἀνθονόμον τᾶς προγόνου\n",
      "βοὸς ἐξ ἐπιπνοί\u001b[31mα\u001b[0mς\n",
      "Ζηνός· ἔφαψ\u001b[32mι\u001b[0m^ν ἐπων\u001b[31mυ\u001b[0mμ\u001b[31mί\u001b[0mᾳ\n",
      "δ' ἐπεκραίνετο μόρσ\u001b[32mι\u001b[0m^μος αἰὼν\n",
      "εὐλόγως, Ἔπ\u001b[31mα\u001b[0mφόν τ' ἐγένν\u001b[31mα\u001b[0mσεν·\n",
      "ὅντ' ἐπ\u001b[31mι\u001b[0mλεξ\u001b[31mα\u001b[0mμέν\u001b[31mα\u001b[0m,\n",
      "νῦν ἐν ποιονόμοις\n",
      "ματρὸς ἀρχαί\u001b[32mα\u001b[0m_ς τόποις τῶν\n",
      "πρόσθε πόνων μν\u001b[31mα\u001b[0mσ\u001b[31mα\u001b[0mμέν\u001b[31mα\u001b[0m\n",
      "τ\u001b[31mά\u001b[0m τε νῦν ἐπ\u001b[31mι\u001b[0mδείξω\n",
      "πιστ\u001b[31mὰ\u001b[0m τεκμήρ\u001b[32mι\u001b[0m^\u001b[32mα\u001b[0m^ γαιονόμοις,\n",
      "τ\u001b[32mὰ\u001b[0m^ δ' \u001b[31mἄ\u001b[0mελπτ\u001b[32mά\u001b[0m^ περ ὄντ\u001b[32mα\u001b[0m^ φ\u001b[32mα\u001b[0m^νεῖται\n",
      "\n",
      "γνώσεται δὲ λόγους τ\u001b[32mι\u001b[0m^ς ἐν μ\u001b[32mά\u001b[0m^κει\n",
      "\n",
      "εἰ δὲ κ\u001b[31mυ\u001b[0mρεῖ τ\u001b[32mι\u001b[0m^ς πέλ\u001b[32mα\u001b[0m^ς οἰωνοπόλων\n",
      "ἔγγαιος οἶκτον οἰκτρὸν \u001b[32mἀ\u001b[0m^\u001b[32mί\u001b[0m^ων,\n",
      "δοξ\u001b[32mά\u001b[0m^σει τ\u001b[31mι\u001b[0mν' \u001b[32mἀ\u001b[0m^κούειν ὄπ\u001b[31mα\u001b[0m τᾶς Τηρε\u001b[31mΐ\u001b[0m\u001b[31mα\u001b[0mς\n",
      " Μήτ\u001b[31mι\u001b[0mδος οἰκτρᾶς \u001b[32mἀ\u001b[0m^λόχου,\n",
      "κιρκηλ\u001b[32mά\u001b[0m^του τ' Ἀηδόνης,\n",
      "\u001b[31mἅ\u001b[0mτ' \u001b[32mἀ\u001b[0m^πὸ χώρων ποτ\u001b[32mα\u001b[0m^μῶν τ' ἐργομέν\u001b[31mα\u001b[0m\n",
      "πενθεῖ μὲν οἶκτον ἠθέων,\n",
      "ξυντ\u001b[32mί\u001b[0m^θησ\u001b[32mι\u001b[0m^ δὲ παιδὸς μόρον, ὡς αὐτοφόνως\n",
      "ὤλετο πρὸς χειρὸς ἕθεν\n",
      "δυσμ\u001b[31mά\u001b[0mτορος κότου τ\u001b[32mυ\u001b[0m^χών·\n",
      "τὼς καὶ ἐγὼ φ\u001b[32mι\u001b[0m^λόδυρτος Ἰ\u001b[31mα\u001b[0mον\u001b[31mί\u001b[0mοισ\u001b[32mι\u001b[0m^ νόμοισ\u001b[32mι\u001b[0m^\n",
      "δάπτω τ\u001b[32mὰ\u001b[0m_ν \u001b[32mἁ\u001b[0m^π\u001b[32mα\u001b[0m^λ\u001b[31mὰ\u001b[0mν\n",
      "εἱλοθερῆ π\u001b[32mα\u001b[0m^ρει\u001b[31mὰ\u001b[0mν\n",
      "\u001b[31mἀ\u001b[0mπειρόδακρ\u001b[32mύ\u001b[0m^ν τε καρδ\u001b[32mί\u001b[0m^\u001b[31mα\u001b[0mν\n",
      "\n",
      "γοεδν\u001b[31mὰ\u001b[0m δ' ἀνθεμίζομαι\n",
      "δειμαίνουσ\u001b[32mα\u001b[0m^ φ\u001b[32mί\u001b[0m^λους, τᾶσδε φ\u001b[32mυ\u001b[0m^γᾶς\n",
      "Ἀερ\u001b[31mί\u001b[0m\u001b[31mα\u001b[0mς \u001b[32mἀ\u001b[0m^πὸ γᾶς\n",
      "εἴ τ\u001b[32mι\u001b[0m^ς ἐστ\u001b[32mὶ\u001b[0m^ κηδεμών\n",
      "\n",
      "ἀλλ\u001b[32mά\u001b[0m^, θεοὶ γενέται, κλ\u001b[31mύ\u001b[0mετ' εὖ τὸ δ\u001b[32mί\u001b[0m^καιον \u001b[31mἰ\u001b[0mδόντες·\n",
      "ἥβᾳ μὴ τέλεον\n",
      "δόντες ἔχειν π\u001b[32mα\u001b[0m^ρ' αἶσ\u001b[32mα\u001b[0m^ν,\n",
      "ὕβρ\u001b[31mι\u001b[0mν δ' ἐτ\u001b[32mύ\u001b[0m^μως στ\u001b[31mυ\u001b[0mγοῦντες,\n",
      "πέλοιτ' ἂ\u001b[32mν\u001b[0m^ ἔνδ\u001b[32mι\u001b[0m^κοι γ\u001b[32mά\u001b[0m^μοις\n",
      "\n",
      "ἔστ\u001b[32mι\u001b[0m^ δὲ κ\u001b[31mἀ\u001b[0mκ πολέμου τειρομένοις\n",
      "βωμὸς \u001b[32mἀ\u001b[0m^ρῆς φ\u001b[32mυ\u001b[0m^γ\u001b[32mά\u001b[0m^σ\u001b[32mι\u001b[0m^ν\n",
      "ῥῦμ\u001b[32mα\u001b[0m^, δαιμόνων σέβ\u001b[31mα\u001b[0mς\n"
     ]
    }
   ],
   "source": [
    "from grc_utils import colour_dichrona_in_open_syllables\n",
    "\n",
    "from tests.hiketides import hiketides\n",
    "from class_macronizer import Macronizer\n",
    "\n",
    "macronizer = Macronizer(debug=True)\n",
    "\n",
    "input = hiketides\n",
    "output = macronizer.macronize(text=input, genre=\"prose\", stats=True)\n",
    "\n",
    "for line in output.split('.')[:10]:\n",
    "    print(colour_dichrona_in_open_syllables(line))"
   ]
  },
  {
   "cell_type": "code",
   "execution_count": 2,
   "metadata": {},
   "outputs": [
    {
     "name": "stdout",
     "output_type": "stream",
     "text": [
      "Token: καὶ, \n",
      "\tLemma: καί, \n",
      "\tPOS: CCONJ, \n",
      "\tMorph: , \n",
      "\t\t [] \n",
      "\tDependency relation: cc, \n",
      "\tHead word: πλοῖα\n",
      "Token: τἄλλα^, \n",
      "\tLemma: τἄλλα^, \n",
      "\tPOS: ADJ, \n",
      "\tMorph: Case=Nom|Gender=Neut|Number=Plur, \n",
      "\t\t ['Plur'] \n",
      "\tDependency relation: dep, \n",
      "\tHead word: πλοῖα\n",
      "Token: πλοῖα, \n",
      "\tLemma: πλοῖον, \n",
      "\tPOS: NOUN, \n",
      "\tMorph: Case=Nom|Gender=Neut|Number=Plur, \n",
      "\t\t ['Plur'] \n",
      "\tDependency relation: ROOT, \n",
      "\tHead word: πλοῖα\n",
      "Token: πᾶσά, \n",
      "\tLemma: πᾶς, \n",
      "\tPOS: DET, \n",
      "\tMorph: Case=Nom|Gender=Fem|Number=Sing, \n",
      "\t\t ['Sing'] \n",
      "\tDependency relation: cc, \n",
      "\tHead word: '\n",
      "Token: θ, \n",
      "\tLemma: θ, \n",
      "\tPOS: ADV, \n",
      "\tMorph: , \n",
      "\t\t [] \n",
      "\tDependency relation: discourse, \n",
      "\tHead word: '\n",
      "Token: ', \n",
      "\tLemma: ', \n",
      "\tPOS: VERB, \n",
      "\tMorph: Aspect=Perf|Mood=Ind|Number=Sing|Person=3|Tense=Past|VerbForm=Fin|Voice=Act, \n",
      "\t\t ['Sing'] \n",
      "\tDependency relation: dep, \n",
      "\tHead word: πικουρία\n",
      "Token: ἡ, \n",
      "\tLemma: ὁ, \n",
      "\tPOS: DET, \n",
      "\tMorph: Case=Nom|Definite=Def|Gender=Fem|Number=Sing|PronType=Dem, \n",
      "\t\t ['Sing'] \n",
      "\tDependency relation: det, \n",
      "\tHead word: πικουρία\n",
      "Token: ', \n",
      "\tLemma: ', \n",
      "\tPOS: ADV, \n",
      "\tMorph: Polarity=Neg, \n",
      "\t\t [] \n",
      "\tDependency relation: dep, \n",
      "\tHead word: πικουρία\n",
      "Token: πικουρία, \n",
      "\tLemma: πικουρία, \n",
      "\tPOS: NOUN, \n",
      "\tMorph: Case=Nom|Gender=Fem|Number=Sing, \n",
      "\t\t ['Sing'] \n",
      "\tDependency relation: ROOT, \n",
      "\tHead word: πικουρία\n"
     ]
    }
   ],
   "source": [
    "import warnings\n",
    "import grc_odycy_joint_trf\n",
    "\n",
    "warnings.filterwarnings('ignore', category=FutureWarning)\n",
    "\n",
    "nlp = grc_odycy_joint_trf.load()\n",
    "\n",
    "input = \"καὶ τἄλλα^ πλοῖα πᾶσά θ' ἡ 'πικουρία\"\n",
    "\n",
    "output = nlp(input)\n",
    "\n",
    "for token in output:\n",
    "   print(f'Token: {token.orth_}, \\n\\tLemma: {token.lemma_}, \\n\\tPOS: {token.pos_}, \\n\\tMorph: {token.morph}, \\n\\t\\t {token.morph.get(\"Number\")} \\n\\tDependency relation: {token.dep_}, \\n\\tHead word: {token.head}')\n"
   ]
  },
  {
   "cell_type": "code",
   "execution_count": 3,
   "metadata": {},
   "outputs": [
    {
     "data": {
      "text/plain": [
       "0"
      ]
     },
     "execution_count": 3,
     "metadata": {},
     "output_type": "execute_result"
    }
   ],
   "source": [
    "from grc_utils import count_dichrona_in_open_syllables\n",
    "\n",
    "count_dichrona_in_open_syllables('τἄλλα^')"
   ]
  },
  {
   "cell_type": "code",
   "execution_count": null,
   "metadata": {},
   "outputs": [],
   "source": [
    "print('hello world')"
   ]
  }
 ],
 "metadata": {
  "kernelspec": {
   "display_name": "odycy",
   "language": "python",
   "name": "python3"
  },
  "language_info": {
   "codemirror_mode": {
    "name": "ipython",
    "version": 3
   },
   "file_extension": ".py",
   "mimetype": "text/x-python",
   "name": "python",
   "nbconvert_exporter": "python",
   "pygments_lexer": "ipython3",
   "version": "3.12.2"
  }
 },
 "nbformat": 4,
 "nbformat_minor": 2
}
