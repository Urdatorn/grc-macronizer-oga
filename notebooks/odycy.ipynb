{
 "cells": [
  {
   "cell_type": "markdown",
   "metadata": {},
   "source": [
    "# odyCy POS inference\n",
    "\n",
    "firstly, we need to use Python 3.12.x\n",
    "\n",
    "secondly, the odyCy wheel has \"Requires-Dist: spacy <3.8.0,>=3.7.4\" in its metadata\n",
    "so we need to install spacy 3.7.4 (not the latest version)"
   ]
  },
  {
   "cell_type": "code",
   "execution_count": null,
   "metadata": {},
   "outputs": [],
   "source": [
    "!which python\n",
    "\n",
    "#!pip install 'spacy<3.8.0,>=3.7.4'\n",
    "\n",
    "%pip show spacy\n",
    "\n",
    "#%pip install grc_odycy_joint_trf-0.7.0-py3-none-any.whl\n",
    "\n",
    "%pip show grc_odycy_joint_trf"
   ]
  },
  {
   "cell_type": "code",
   "execution_count": null,
   "metadata": {},
   "outputs": [],
   "source": [
    "import warnings\n",
    "import grc_odycy_joint_trf\n",
    "\n",
    "warnings.filterwarnings('ignore', category=FutureWarning)\n",
    "\n",
    "nlp = grc_odycy_joint_trf.load()\n",
    "\n",
    "input = \"χαῖρε, ὦ οἰκουμένη\"\n",
    "\n",
    "output = nlp(input)\n",
    "\n",
    "for token in output:\n",
    "   print(f'Token: {token.orth_}, \\n\\tLemma: {token.lemma_}, \\n\\tPOS: {token.pos_}, \\n\\tMorph: {token.morph}, \\n\\t\\t {token.morph.get(\"Number\")} \\n\\tDependency relation: {token.dep_}, \\n\\tHead word: {token.head}')\n"
   ]
  }
 ],
 "metadata": {
  "kernelspec": {
   "display_name": "odycy",
   "language": "python",
   "name": "python3"
  },
  "language_info": {
   "codemirror_mode": {
    "name": "ipython",
    "version": 3
   },
   "file_extension": ".py",
   "mimetype": "text/x-python",
   "name": "python",
   "nbconvert_exporter": "python",
   "pygments_lexer": "ipython3",
   "version": "3.12.2"
  }
 },
 "nbformat": 4,
 "nbformat_minor": 2
}
