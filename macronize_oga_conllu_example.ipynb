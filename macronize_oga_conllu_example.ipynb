{
 "cells": [
  {
   "cell_type": "code",
   "execution_count": 1,
   "id": "a8755a4b",
   "metadata": {},
   "outputs": [],
   "source": [
    "import pickle\n",
    "\n",
    "from class_token import Morph, Token # important: The loader needs the Token and Morph classes defined in the same scope, or pickle can't reconstitute them.\n",
    "\n",
    "def load_sentences(pkl_file=\"oga_sentences.pkl\"):\n",
    "    \"\"\"\n",
    "    Load the list of sentences (each a list of Token objects)\n",
    "    from a pickle file.\n",
    "\n",
    "    Parameters\n",
    "    ----------\n",
    "    pkl_file : str\n",
    "        Path to the .pkl file\n",
    "\n",
    "    Returns\n",
    "    -------\n",
    "    list\n",
    "        A list of sentences, where each sentence is a list of Token objects\n",
    "    \"\"\"\n",
    "    with open(pkl_file, \"rb\") as f:\n",
    "        sentences = pickle.load(f)\n",
    "    return sentences\n",
    "\n",
    "sentences = load_sentences(\"example_ud.pkl\")"
   ]
  },
  {
   "cell_type": "code",
   "execution_count": 5,
   "id": "544fcd72",
   "metadata": {},
   "outputs": [
    {
     "name": "stderr",
     "output_type": "stream",
     "text": [
      "Macronizing tokens ☕️: 100%|██████████| 161/161 [00:00<00:00, 358.32it/s]\n",
      "                                                              \r"
     ]
    },
    {
     "name": "stdout",
     "output_type": "stream",
     "text": [
      "###### STATS ######\n",
      "Dichrona in open syllables before:            405\n",
      "Unmacronized dichrona in open syllables left: 138\n",
      "\n",
      "\u001b[32m267\u001b[0m dichrona macronized.\n",
      "\n",
      "Macronization ratio: \u001b[32m65.93%\u001b[0m\n",
      "χρὴ γ\u001b[32mι\u001b[0m^νώσκειν ὅτ\u001b[32mι\u001b[0m^ π\u001b[32mά\u001b[0m_σης τῆς γῆς ὁ περ\u001b[32mί\u001b[0m^μετρος στ\u001b[32mά\u001b[0m^δ\u001b[32mι\u001b[0m^\u001b[32mά\u001b[0m^ ἐστ\u001b[32mι\u001b[0m^ δ\u001b[32mι\u001b[0m^σχ\u001b[32mί\u001b[0m_λ\u001b[32mι\u001b[0m^\u001b[32mα\u001b[0m^ καὶ μ\u001b[32mυ\u001b[0m_ρ\u001b[32mι\u001b[0m^\u001b[32mά\u001b[0m^δες εἴκοσ\u001b[32mι\u001b[0m^ πέντε μῆκος δὲ τῆς ἡμετέρ\u001b[32mα\u001b[0m_ς οἰκουμένης \u001b[32mἀ\u001b[0m^πὸ στόμ\u001b[32mα\u001b[0m^τος γάγγου ἕως γ\u001b[31mα\u001b[0mδείρων στ\u001b[32mά\u001b[0m^δ\u001b[32mι\u001b[0m^\u001b[32mα\u001b[0m^ ὀκτ\u001b[31mα\u001b[0mκισμ\u001b[31mύ\u001b[0mρ\u001b[31mι\u001b[0m\u001b[32mα\u001b[0m^ τρ\u001b[32mι\u001b[0m^σχ\u001b[32mί\u001b[0m_λ\u001b[32mι\u001b[0m^\u001b[32mα\u001b[0m^ ὀκ τ\u001b[31mα\u001b[0mκόσ\u001b[31mι\u001b[0m\u001b[32mα\u001b[0m^ τὸ δὲ πλ\u001b[32mά\u001b[0m^τος \u001b[32mἀ\u001b[0m^πὸ τῆς αἰθ\u001b[31mι\u001b[0mοπ\u001b[31mι\u001b[0mκῆς θ\u001b[32mα\u001b[0m^λάσσης ἕως τοῦ τ\u001b[31mα\u001b[0mν\u001b[31mά\u001b[0m\u001b[31mϊ\u001b[0mδος ποτ\u001b[32mα\u001b[0m^μοῦ στ\u001b[32mά\u001b[0m^δ\u001b[32mι\u001b[0m^\u001b[32mα\u001b[0m^ τρισμ\u001b[31mύ\u001b[0mρ\u001b[31mι\u001b[0m\u001b[32mα\u001b[0m^ πεντ\u001b[31mα\u001b[0mκισχ\u001b[31mί\u001b[0mλ\u001b[31mι\u001b[0m\u001b[32mα\u001b[0m^ τὸ δὲ μετ\u001b[32mα\u001b[0m^ξ\u001b[32mὺ\u001b[0m^ εὐφρ\u001b[31mά\u001b[0mτου καὶ τίγρ\u001b[31mι\u001b[0mδος ποτ\u001b[32mα\u001b[0m^μοῦ ὃ κ\u001b[32mα\u001b[0m^λεῖται μεσοποτ\u001b[31mά\u001b[0mμ\u001b[31mι\u001b[0mον δ\u001b[32mι\u001b[0m^\u001b[32mά\u001b[0m^στημ\u001b[32mα\u001b[0m^ ἔχει στ\u001b[32mα\u001b[0m^δ\u001b[32mί\u001b[0m^ων τρ\u001b[32mι\u001b[0m^σχ\u001b[32mι\u001b[0m_λ\u001b[32mί\u001b[0m^ων ταύτην τὴν \u001b[31mἀ\u001b[0mν\u001b[31mα\u001b[0mμέτρησ\u001b[32mι\u001b[0m^ν πεποίηκεν ἐρ\u001b[31mα\u001b[0mτοσθένης ὁ τῶν ἀρχαίων μ\u001b[31mα\u001b[0mθητ\u001b[31mι\u001b[0mκώτ\u001b[31mα\u001b[0mτος \u001b[32mἀ\u001b[0m^πὸ τοῦ βυζαντ\u001b[31mί\u001b[0mου εἰς τὸ σωσθέν\u001b[31mι\u001b[0mον στ\u001b[32mά\u001b[0m^δ\u001b[32mι\u001b[0m^\u001b[32mα\u001b[0m^ ὀγδοήκοντ\u001b[32mα\u001b[0m^ μ\u001b[31mί\u001b[0mλ\u001b[31mι\u001b[0m\u001b[32mα\u001b[0m^ δ\u001b[32mέ\u001b[0m^κ\u001b[32mα\u001b[0m^ καὶ ἥμ\u001b[32mι\u001b[0m^σ\u001b[32mυ\u001b[0m^ \u001b[32mἀ\u001b[0m^πὸ δὲ τοῦ σωσθεν\u001b[31mί\u001b[0mου εἰς τὸ \u001b[31mἱ\u001b[0mερὸν στ\u001b[32mά\u001b[0m^δ\u001b[32mι\u001b[0m^\u001b[32mα\u001b[0m^ τεσσ\u001b[32mα\u001b[0m^ρ\u001b[32mά\u001b[0m^κοντ\u001b[32mα\u001b[0m^ μ\u001b[31mί\u001b[0mλ\u001b[31mι\u001b[0m\u001b[32mα\u001b[0m^ πέντε ἥμ\u001b[32mι\u001b[0m^σ\u001b[32mυ\u001b[0m^ τὸ πᾶν μ\u001b[31mί\u001b[0mλ\u001b[31mι\u001b[0m\u001b[32mα\u001b[0m^ δεκ\u001b[31mα\u001b[0mέξ \u001b[32mἀ\u001b[0m^πὸ δὲ τοῦ \u001b[32mἱ\u001b[0m^εροῦ δ\u001b[31mι\u001b[0mὸς οὐρ\u001b[31mί\u001b[0mου ἤτοι στόμ\u001b[32mα\u001b[0m^τος τοῦ πόντου ἕως τοῦ \u001b[31mἱ\u001b[0mεροῦ στόμ\u001b[32mα\u001b[0m^τος τοῦ ἴστρου ποτ\u001b[32mα\u001b[0m^μοῦ στ\u001b[32mά\u001b[0m^δ\u001b[32mι\u001b[0m^\u001b[32mα\u001b[0m^ τρ\u001b[32mι\u001b[0m^σχ\u001b[32mί\u001b[0m_λ\u001b[32mι\u001b[0m^\u001b[32mα\u001b[0m^ ἑξ\u001b[32mα\u001b[0m^κόσ\u001b[32mι\u001b[0m^\u001b[32mα\u001b[0m^ τεσσ\u001b[32mα\u001b[0m^ρ\u001b[32mά\u001b[0m^κοντ\u001b[32mα\u001b[0m^ μ\u001b[31mί\u001b[0mλ\u001b[31mι\u001b[0m\u001b[32mα\u001b[0m^ τετρ\u001b[32mα\u001b[0m^κόσ\u001b[32mι\u001b[0m^\u001b[32mα\u001b[0m^ ὀγδοήκοντ\u001b[32mα\u001b[0m^ πέντε ἥμ\u001b[32mι\u001b[0m^σ\u001b[32mυ\u001b[0m^ \u001b[31mἀ\u001b[0mπὸ δὲ τοῦ \u001b[31mἱ\u001b[0mεροῦ δ\u001b[31mι\u001b[0mὸς οὐρ\u001b[31mί\u001b[0mου ἕως βορυσθένους ποτ\u001b[32mα\u001b[0m^μοῦ τοῦ καὶ δ\u001b[31mα\u001b[0mνάπρεως κ\u001b[32mα\u001b[0m^λουμένου στ\u001b[32mά\u001b[0m^δ\u001b[32mι\u001b[0m^\u001b[32mα\u001b[0m^ πεντ\u001b[31mα\u001b[0mκισχ\u001b[31mί\u001b[0mλ\u001b[31mι\u001b[0m\u001b[32mα\u001b[0m^ ἑξ\u001b[32mα\u001b[0m^κόσ\u001b[32mι\u001b[0m^\u001b[32mα\u001b[0m^ μ\u001b[31mί\u001b[0mλ\u001b[31mι\u001b[0m\u001b[32mα\u001b[0m^ ἑπτ\u001b[32mα\u001b[0m^κόσ\u001b[32mι\u001b[0m^\u001b[32mα\u001b[0m^ τεσσ\u001b[31mα\u001b[0mρ\u001b[31mα\u001b[0mκοντ\u001b[31mα\u001b[0mὲξ ἥμ\u001b[32mι\u001b[0m^σ\u001b[32mυ\u001b[0m^ \u001b[31mἀ\u001b[0mπὸ δὲ τοῦ \u001b[31mἱ\u001b[0mεροῦ δ\u001b[31mι\u001b[0mὸς οὐρ\u001b[31mί\u001b[0mου ἕως πορθμ\u001b[31mί\u001b[0m\u001b[31mα\u001b[0mς πόλεως τῆς ἐν τέλει τῆς εὐρώπης τῶν τοῦ πόντου μερῶν τῆς ἐν τῷ στομ\u001b[32mί\u001b[0m^ῳ τῆς μαιώτ\u001b[31mι\u001b[0mδος λίμνης ἤτοι βοσπόρου τοῦ κιμμερ\u001b[31mί\u001b[0mου κ\u001b[32mα\u001b[0m^λουμένου στ\u001b[32mά\u001b[0m^δ\u001b[32mι\u001b[0m^\u001b[32mα\u001b[0m^ μ\u001b[31mύ\u001b[0mρ\u001b[31mι\u001b[0m\u001b[32mα\u001b[0m^ χ\u001b[32mί\u001b[0m_λ\u001b[32mι\u001b[0m^\u001b[32mα\u001b[0m^ ἑκ\u001b[32mα\u001b[0m^τόν μ\u001b[31mί\u001b[0mλ\u001b[31mι\u001b[0m\u001b[32mα\u001b[0m^ χ\u001b[32mί\u001b[0m_λ\u001b[32mι\u001b[0m^\u001b[32mα\u001b[0m^ τετρ\u001b[32mα\u001b[0m^κόσ\u001b[32mι\u001b[0m^\u001b[32mα\u001b[0m^ ὀγδοήκοντ\u001b[32mα\u001b[0m^ λέγεται δὲ τῆς εὐρώπης τῆς ποντ\u001b[31mι\u001b[0mκῆς ὁ περίπλους \u001b[32mἴ\u001b[0m^σος εἶναι τῶ περίπλῳ τῶν τῆς \u001b[31mἀ\u001b[0mσ\u001b[31mί\u001b[0m\u001b[31mα\u001b[0mς μερῶν \u001b[31mἀ\u001b[0mπὸ δὲ τοῦ \u001b[31mἱ\u001b[0mεροῦ δ\u001b[31mι\u001b[0mὸς οὐρ\u001b[31mί\u001b[0mου ἕως \u001b[31mἀ\u001b[0mμ\u001b[31mι\u001b[0mσοῦ στ\u001b[32mά\u001b[0m^δ\u001b[32mι\u001b[0m^\u001b[32mα\u001b[0m^ τετρ\u001b[31mα\u001b[0mκισχ\u001b[31mί\u001b[0mλ\u001b[31mι\u001b[0m\u001b[32mα\u001b[0m^ ἑξ\u001b[32mα\u001b[0m^κόσ\u001b[32mι\u001b[0m^\u001b[32mα\u001b[0m^ ἐξήκοντ\u001b[32mα\u001b[0m^ μ\u001b[31mί\u001b[0mλ\u001b[31mι\u001b[0m\u001b[32mα\u001b[0m^ ἑξ\u001b[32mα\u001b[0m^κόσ\u001b[32mι\u001b[0m^\u001b[32mα\u001b[0m^ εἰκοσ\u001b[31mι\u001b[0mὲν ἥμ\u001b[32mι\u001b[0m^σ\u001b[32mυ\u001b[0m^ \u001b[31mἀ\u001b[0mπὸ δὲ \u001b[31mἀ\u001b[0mμ\u001b[31mι\u001b[0mσοῦ ἕως τοῦ φ\u001b[31mά\u001b[0mσεως ποτ\u001b[32mα\u001b[0m^μοῦ στ\u001b[32mά\u001b[0m^δ\u001b[32mι\u001b[0m^\u001b[32mα\u001b[0m^ τρ\u001b[32mι\u001b[0m^σχ\u001b[32mί\u001b[0m_λ\u001b[32mι\u001b[0m^\u001b[32mα\u001b[0m^ ὀκτ\u001b[32mα\u001b[0m^κόσ\u001b[32mι\u001b[0m^\u001b[32mα\u001b[0m^ δ\u001b[32mύ\u001b[0m^ο μ\u001b[31mί\u001b[0mλ\u001b[31mι\u001b[0m\u001b[32mα\u001b[0m^ πεντ\u001b[32mα\u001b[0m^κόσ\u001b[32mι\u001b[0m^\u001b[32mα\u001b[0m^ ἑπτ\u001b[32mά\u001b[0m^ \u001b[31mἀ\u001b[0mπὸ δὲ τοῦ φ\u001b[31mά\u001b[0mσεως ποτ\u001b[32mα\u001b[0m^μοῦ ἕως τοῦ στόμ\u001b[32mα\u001b[0m^τος τῆς μαιώτ\u001b[31mι\u001b[0mδος λίμνης ἤτοι ἕως τῆς \u001b[31mἀ\u001b[0mχιλλείου κώμης στ\u001b[32mά\u001b[0m^δ\u001b[32mι\u001b[0m^\u001b[32mα\u001b[0m^ τετρ\u001b[31mα\u001b[0mκισχ\u001b[31mί\u001b[0mλ\u001b[31mι\u001b[0m\u001b[32mα\u001b[0m^ εἴκοσ\u001b[32mι\u001b[0m^ πέντε μ\u001b[31mί\u001b[0mλ\u001b[31mι\u001b[0m\u001b[32mα\u001b[0m^ πεντ\u001b[32mα\u001b[0m^κόσ\u001b[32mι\u001b[0m^\u001b[32mα\u001b[0m^ τρ\u001b[31mι\u001b[0m\u001b[31mα\u001b[0mκοντ\u001b[31mα\u001b[0mὲξ ἥμ\u001b[32mι\u001b[0m^σ\u001b[32mυ\u001b[0m^ ὡς γ\u001b[32mί\u001b[0m_νεσθαι \u001b[31mἀ\u001b[0mπὸ τοῦ \u001b[31mἱ\u001b[0mεροῦ δ\u001b[31mι\u001b[0mὸς οὐρ\u001b[31mί\u001b[0mου ἕως τοῦ στόμ\u001b[32mα\u001b[0m^τος τῆς μαιώτ\u001b[31mι\u001b[0mδος λίμνης στ\u001b[32mά\u001b[0m^δ\u001b[32mι\u001b[0m^\u001b[32mα\u001b[0m^ μ\u001b[31mύ\u001b[0mρ\u001b[31mι\u001b[0m\u001b[32mα\u001b[0m^ δ\u001b[31mι\u001b[0mσ χ\u001b[32mί\u001b[0m_λ\u001b[32mι\u001b[0m^\u001b[32mα\u001b[0m^ τετρ\u001b[32mα\u001b[0m^κόσ\u001b[32mι\u001b[0m^\u001b[32mα\u001b[0m^ ὀγδοήκοντ\u001b[32mα\u001b[0m^ ἑπτ\u001b[32mὰ\u001b[0m^ μ\u001b[31mί\u001b[0mλ\u001b[31mι\u001b[0m\u001b[32mα\u001b[0m^ χ\u001b[32mί\u001b[0m_λ\u001b[32mι\u001b[0m^\u001b[32mα\u001b[0m^ ἑξ\u001b[32mα\u001b[0m^κόσ\u001b[32mι\u001b[0m^\u001b[32mα\u001b[0m^ ἐξήκοντ\u001b[32mα\u001b[0m^ πέντε ἥμ\u001b[32mι\u001b[0m^σ\u001b[32mυ\u001b[0m^ ὁμοῦ γ\u001b[32mί\u001b[0m_νεται ὁ περίπλους τοῦ εὐξείνου πόντου τῶν τε δεξ\u001b[32mι\u001b[0m^ῶν τῶν π\u001b[32mα\u001b[0m^ρ\u001b[32mὰ\u001b[0m^ τὴν \u001b[31mἀ\u001b[0mσ\u001b[31mί\u001b[0m\u001b[31mα\u001b[0mν μερῶν τοῦ πόντου \u001b[32mἀ\u001b[0m^ριστερῶν δὲ τῶν π\u001b[32mα\u001b[0m^ρ\u001b[32mὰ\u001b[0m^ τὴν εὐρώπην μερῶν τοῦ πόντου \u001b[31mἀ\u001b[0mπὸ τοῦ \u001b[31mἱ\u001b[0mεροῦ δ\u001b[31mι\u001b[0mὸς οὐρ\u001b[31mί\u001b[0mου στ\u001b[32mά\u001b[0m^δ\u001b[32mι\u001b[0m^\u001b[32mα\u001b[0m^ δισμ\u001b[31mύ\u001b[0mρ\u001b[31mι\u001b[0m\u001b[32mα\u001b[0m^ τρ\u001b[32mι\u001b[0m^σχ\u001b[32mί\u001b[0m_λ\u001b[32mι\u001b[0m^\u001b[32mα\u001b[0m^ πεντ\u001b[32mα\u001b[0m^κόσ\u001b[32mι\u001b[0m^\u001b[32mα\u001b[0m^ ὀγδοήκοντ\u001b[32mα\u001b[0m^ ἑπτ\u001b[32mὰ\u001b[0m^ μ\u001b[31mί\u001b[0mλ\u001b[31mι\u001b[0m\u001b[32mα\u001b[0m^ τρ\u001b[32mι\u001b[0m^σχ\u001b[32mί\u001b[0m_λ\u001b[32mι\u001b[0m^\u001b[32mα\u001b[0m^ ἑκ\u001b[32mα\u001b[0m^τὸν τεσσ\u001b[32mα\u001b[0m^ρ\u001b[32mά\u001b[0m^κοντ\u001b[32mα\u001b[0m^ πέντε ἔστ\u001b[31mι\u001b[0m δὲ καὶ ὁ περίπλους τῆς μαιώτ\u001b[31mι\u001b[0mδος λίμνης στ\u001b[32mά\u001b[0m^δ\u001b[32mι\u001b[0m^\u001b[32mα\u001b[0m^ ἐνν\u001b[31mα\u001b[0mκισχ\u001b[31mί\u001b[0mλ\u001b[31mι\u001b[0m\u001b[32mα\u001b[0m^ μ\u001b[31mί\u001b[0mλ\u001b[31mι\u001b[0m\u001b[32mα\u001b[0m^ χ\u001b[32mί\u001b[0m_λ\u001b[32mι\u001b[0m^\u001b[32mα\u001b[0m^ δ\u001b[32mι\u001b[0m^\u001b[32mα\u001b[0m_κόσ\u001b[32mι\u001b[0m^\u001b[32mα\u001b[0m^ περ\u001b[31mὶ\u001b[0m τοῦ στ\u001b[32mα\u001b[0m^δ\u001b[32mί\u001b[0m^ου τὸ στ\u001b[32mά\u001b[0m^δ\u001b[32mι\u001b[0m^ον πήχεις ἔχει τετρ\u001b[32mα\u001b[0m^κοσ\u001b[32mί\u001b[0m^ους πόδ\u001b[32mα\u001b[0m^ς ὀκτ\u001b[32mα\u001b[0m^κοσ\u001b[32mί\u001b[0m^ους ὀργυι\u001b[32mὰ\u001b[0m_ς ἑκ\u001b[32mα\u001b[0m^τὸν τρ\u001b[32mι\u001b[0m^\u001b[32mά\u001b[0m_κοντ\u001b[32mα\u001b[0m^ τρεῖς ἥμ\u001b[32mι\u001b[0m^σ\u001b[32mυ\u001b[0m^ περ\u001b[31mὶ\u001b[0m τοῦ μ\u001b[31mι\u001b[0mλ\u001b[32mί\u001b[0m^ου τὸ μ\u001b[31mί\u001b[0mλ\u001b[31mι\u001b[0mον ἔχει στ\u001b[32mά\u001b[0m^δ\u001b[32mι\u001b[0m^\u001b[32mα\u001b[0m^ ἑπτ\u001b[32mὰ\u001b[0m^ ἥμ\u001b[32mι\u001b[0m^σ\u001b[32mυ\u001b[0m^ πήχεις τρ\u001b[32mι\u001b[0m^σχ\u001b[32mι\u001b[0m_λ\u001b[32mί\u001b[0m^ους πόδ\u001b[32mα\u001b[0m^ς ἑξ\u001b[31mα\u001b[0mκισχ\u001b[31mι\u001b[0mλ\u001b[32mί\u001b[0m^ους περ\u001b[31mὶ\u001b[0m τοῦ ἐν\u001b[32mι\u001b[0m^αυτοῦ \u001b[31mἅ\u001b[0mπ\u001b[31mα\u001b[0mς ἔχει ὥρ\u001b[32mα\u001b[0m_ς ὀκτ\u001b[31mα\u001b[0mκισχ\u001b[31mι\u001b[0mλ\u001b[31mί\u001b[0m\u001b[32mα\u001b[0m_ς ἑπτ\u001b[32mα\u001b[0m^κοσ\u001b[32mί\u001b[0m^\u001b[32mα\u001b[0m_ς ἐξήκοντ\u001b[32mα\u001b[0m^ ἓξ ἡμέρ\u001b[32mα\u001b[0m_ς τρ\u001b[32mι\u001b[0m^\u001b[32mα\u001b[0m_κοσ\u001b[32mί\u001b[0m^\u001b[32mα\u001b[0m_ς ἑξήκοντ\u001b[32mα\u001b[0m^ πέντε καὶ τέταρτον\n"
     ]
    }
   ],
   "source": [
    "import re\n",
    "from grc_utils import colour_dichrona_in_open_syllables\n",
    "from grc_macronizer.class_macronizer import Macronizer\n",
    "\n",
    "macronizer = Macronizer(lowercase=True)\n",
    "output = macronizer.macronize(sentences)\n",
    "\n",
    "with open(\"example_macronized.txt\", \"w\", encoding=\"utf-8\") as f:\n",
    "    f.write(output)\n",
    "\n",
    "output_split = [sentence for sentence in re.findall(r'[^.\\n;\\u037e]+[.\\n;\\u037e]?', output) if sentence]\n",
    "for line in output_split[:500]:\n",
    "    print(colour_dichrona_in_open_syllables(line))"
   ]
  },
  {
   "cell_type": "code",
   "execution_count": null,
   "id": "dedd27ad",
   "metadata": {},
   "outputs": [],
   "source": []
  }
 ],
 "metadata": {
  "kernelspec": {
   "display_name": "Python 3",
   "language": "python",
   "name": "python3"
  },
  "language_info": {
   "codemirror_mode": {
    "name": "ipython",
    "version": 3
   },
   "file_extension": ".py",
   "mimetype": "text/x-python",
   "name": "python",
   "nbconvert_exporter": "python",
   "pygments_lexer": "ipython3",
   "version": "3.12.2"
  }
 },
 "nbformat": 4,
 "nbformat_minor": 5
}
