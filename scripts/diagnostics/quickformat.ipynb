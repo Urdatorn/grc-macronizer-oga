{
 "cells": [
  {
   "cell_type": "code",
   "execution_count": 1,
   "id": "529a5cc3",
   "metadata": {},
   "outputs": [],
   "source": [
    "with open(\"oga_still_ambiguous.tsv\", \"r\") as f:\n",
    "    lines = f.readlines()\n",
    "\n",
    "words = [line.split(\"\\t\")[0] for line in lines]\n",
    "\n",
    "with open(\"oga_still_ambiguous_words.txt\", \"w\") as f:\n",
    "    for word in words:\n",
    "        f.write(word + \"\\n\")"
   ]
  },
  {
   "cell_type": "code",
   "execution_count": 2,
   "id": "d95d5f5e",
   "metadata": {},
   "outputs": [],
   "source": [
    "# generate_macron_dict.py\n",
    "\n",
    "def generate_macron_map(input_path, output_path):\n",
    "    with open(input_path, encoding='utf-8') as f:\n",
    "        lines = [line.strip() for line in f if line.strip()]\n",
    "\n",
    "    macron_dict = {}\n",
    "    for word in lines:\n",
    "        unmarked = word.replace(\"^\", \"\").replace(\"_\", \"\")\n",
    "        macron_dict[unmarked] = word\n",
    "\n",
    "    with open(output_path, \"w\", encoding=\"utf-8\") as f:\n",
    "        f.write(\"custom_macron_map = {\\n\")\n",
    "        for key, value in macron_dict.items():\n",
    "            f.write(f'    \"{key}\": \"{value}\",\\n')\n",
    "        f.write(\"}\\n\")\n",
    "\n",
    "\n",
    "generate_macron_map(\"oga_still_ambiguous_words.txt\", \"new_custom_macron_map.py\")"
   ]
  }
 ],
 "metadata": {
  "kernelspec": {
   "display_name": "3.13.0",
   "language": "python",
   "name": "python3"
  },
  "language_info": {
   "codemirror_mode": {
    "name": "ipython",
    "version": 3
   },
   "file_extension": ".py",
   "mimetype": "text/x-python",
   "name": "python",
   "nbconvert_exporter": "python",
   "pygments_lexer": "ipython3",
   "version": "3.13.0"
  }
 },
 "nbformat": 4,
 "nbformat_minor": 5
}
