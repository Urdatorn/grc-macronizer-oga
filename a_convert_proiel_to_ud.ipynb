{
 "cells": [
  {
   "cell_type": "code",
   "execution_count": 1,
   "id": "8041352a",
   "metadata": {},
   "outputs": [
    {
     "name": "stderr",
     "output_type": "stream",
     "text": [
      "100%|██████████| 1999/1999 [01:31<00:00, 21.84it/s]"
     ]
    },
    {
     "name": "stdout",
     "output_type": "stream",
     "text": [
      "\n",
      "=== Global Conversion Report ===\n",
      "Unknown POS tags: 0\n",
      "\n",
      "Unknown features: 0\n"
     ]
    },
    {
     "name": "stderr",
     "output_type": "stream",
     "text": [
      "\n"
     ]
    }
   ],
   "source": [
    "from collections import Counter\n",
    "import os\n",
    "from tqdm import tqdm\n",
    "from proiel_ud_maps import pos_map, translate_morph\n",
    "\n",
    "def convert_file(infile, outfile, global_pos, global_feats):\n",
    "    with open(infile, encoding=\"utf-8\") as fin, open(outfile, \"w\", encoding=\"utf-8\") as fout:\n",
    "        for line in fin:\n",
    "            if not line.strip() or line.startswith(\"#\"):\n",
    "                fout.write(line)\n",
    "                continue\n",
    "\n",
    "            fields = line.strip().split(\"\\t\")\n",
    "            if len(fields) != 10:  # skip malformed\n",
    "                fout.write(line)\n",
    "                continue\n",
    "\n",
    "            # POS\n",
    "            short_pos = fields[3]\n",
    "            upos = pos_map.get(short_pos)\n",
    "            if not upos:\n",
    "                global_pos[short_pos] += 1\n",
    "                upos = \"X\"\n",
    "            fields[3] = upos\n",
    "\n",
    "            # Morph\n",
    "            fields[5] = translate_morph(fields[5], global_feats)\n",
    "\n",
    "            fout.write(\"\\t\".join(fields) + \"\\n\")\n",
    "\n",
    "\n",
    "def convert_folder(infolder, outfolder):\n",
    "    os.makedirs(outfolder, exist_ok=True)\n",
    "    global_pos = Counter()\n",
    "    global_feats = Counter()\n",
    "\n",
    "    for fname in tqdm(os.listdir(infolder)):\n",
    "        if fname.endswith(\".conllu\"):\n",
    "            infile = os.path.join(infolder, fname)\n",
    "            outfile = os.path.join(outfolder, fname)\n",
    "            convert_file(infile, outfile, global_pos, global_feats)\n",
    "\n",
    "    # Final report\n",
    "    print(\"\\n=== Global Conversion Report ===\")\n",
    "    print(f\"Unknown POS tags: {sum(global_pos.values())}\")\n",
    "    for tag, count in global_pos.most_common():\n",
    "        print(f\"  POS {tag}: {count}\")\n",
    "\n",
    "    print(f\"\\nUnknown features: {sum(global_feats.values())}\")\n",
    "    for feat, count in global_feats.most_common():\n",
    "        print(f\"  Feature {feat}: {count}\")\n",
    "\n",
    "convert_folder(\"conllu_proiel\", \"conllu_ud\")"
   ]
  },
  {
   "cell_type": "code",
   "execution_count": 2,
   "id": "91a4a82c",
   "metadata": {},
   "outputs": [
    {
     "name": "stdout",
     "output_type": "stream",
     "text": [
      "Merged all .conllu files in 'conllu_ud' into 'merged_ud.tsv'\n"
     ]
    }
   ],
   "source": [
    "import os\n",
    "\n",
    "def merge_conllu_to_tsv(input_folder, output_file=\"merged.tsv\", include_comments=False):\n",
    "    \"\"\"\n",
    "    Concatenate all UD .conllu files in a folder into a single .tsv file.\n",
    "    Each file is appended line by line. Optionally skip comments.\n",
    "    \"\"\"\n",
    "    with open(output_file, \"w\", encoding=\"utf-8\") as out:\n",
    "        for fname in os.listdir(input_folder):\n",
    "            if not fname.endswith(\".conllu.ud\") and not fname.endswith(\".conllu\"):\n",
    "                continue\n",
    "            in_path = os.path.join(input_folder, fname)\n",
    "            with open(in_path, \"r\", encoding=\"utf-8\") as f:\n",
    "                for line in f:\n",
    "                    if not include_comments and line.startswith(\"#\"):\n",
    "                        continue\n",
    "                    if line.strip():  # only non-empty lines\n",
    "                        out.write(line)\n",
    "    print(f\"Merged all .conllu files in '{input_folder}' into '{output_file}'\")\n",
    "\n",
    "merge_conllu_to_tsv(\"conllu_ud\", \"merged_ud.tsv\", include_comments=False)"
   ]
  }
 ],
 "metadata": {
  "kernelspec": {
   "display_name": "Python 3",
   "language": "python",
   "name": "python3"
  },
  "language_info": {
   "codemirror_mode": {
    "name": "ipython",
    "version": 3
   },
   "file_extension": ".py",
   "mimetype": "text/x-python",
   "name": "python",
   "nbconvert_exporter": "python",
   "pygments_lexer": "ipython3",
   "version": "3.12.2"
  }
 },
 "nbformat": 4,
 "nbformat_minor": 5
}
